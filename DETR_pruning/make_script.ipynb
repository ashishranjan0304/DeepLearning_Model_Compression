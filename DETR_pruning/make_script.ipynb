{
 "cells": [
  {
   "cell_type": "code",
   "execution_count": null,
   "metadata": {},
   "outputs": [],
   "source": [
    "print(\"ashish\")"
   ]
  },
  {
   "cell_type": "code",
   "execution_count": 1,
   "metadata": {},
   "outputs": [
    {
     "name": "stdout",
     "output_type": "stream",
     "text": [
      "Experiment scripts generated successfully.\n"
     ]
    }
   ],
   "source": [
    "import os\n",
    "\n",
    "# Experiment configurations\n",
    "rate_norm_values = [1, 0.9, 0.8]  # Change as needed\n",
    "rate_dist_values = [0.1, 0.2, 0.3, 0.4]  # Change as needed\n",
    "layer_begin_values = [0, 10]  # Change as needed\n",
    "layer_end_values = [120, 140]  # Change as needed\n",
    "layer_inter_values = [1, 2]  # Change as needed\n",
    "\n",
    "# Output directory for experiment scripts\n",
    "output_dir = \"experiment_scripts\"\n",
    "os.makedirs(output_dir, exist_ok=True)\n",
    "\n",
    "# Generate experiment scripts\n",
    "for rate_norm in rate_norm_values:\n",
    "    for rate_dist in rate_dist_values:\n",
    "        for layer_begin in layer_begin_values:\n",
    "            for layer_end in layer_end_values:\n",
    "                for layer_inter in layer_inter_values:\n",
    "                    # Skip invalid combinations\n",
    "                    if layer_begin >= layer_end:\n",
    "                        continue\n",
    "                    if layer_inter > (layer_end - layer_begin):\n",
    "                        continue\n",
    "                    \n",
    "                    # Create output directory name based on experiment configuration\n",
    "                    output_subdir = f\"RN{rate_norm}_RD{rate_dist}_LB{layer_begin}_LE{layer_end}_LI{layer_inter}\"\n",
    "                    output_path = os.path.join(output_dir, output_subdir)\n",
    "                    os.makedirs(output_path, exist_ok=True)\n",
    "                    \n",
    "                    # Generate experiment script\n",
    "                    script_content = f\"\"\"\\\n",
    "# Run the main script to train the model\n",
    "!python -m torch.distributed.launch --nproc_per_node=3 --use_env main.py --coco_path ../open-images-bus-trucks/ \\\n",
    "  --epochs 20 --lr=1e-6 --batch_size=2 --num_workers=4 \\\n",
    "  --output_dir=\"{output_subdir}\" --resume=\"detr-r50_no-class-head.pth\" \\\n",
    "  --rate_norm {rate_norm} --rate_dist {rate_dist} --layer_begin {layer_begin} --layer_end {layer_end} --layer_inter {layer_inter}\n",
    "\"\"\"\n",
    "                    script_filename = os.path.join(output_path, \"experiment_script.sh\")\n",
    "                    with open(script_filename, \"w\") as script_file:\n",
    "                        script_file.write(script_content)\n",
    "\n",
    "print(\"Experiment scripts generated successfully.\")\n"
   ]
  },
  {
   "cell_type": "code",
   "execution_count": 6,
   "metadata": {},
   "outputs": [
    {
     "name": "stdout",
     "output_type": "stream",
     "text": [
      "Experiment scripts generated successfully.\n"
     ]
    }
   ],
   "source": [
    "import os\n",
    "\n",
    "# Experiment configurations\n",
    "rate_norm_values = [1, 0.9, 0.8]  # Change as needed\n",
    "rate_dist_values = [0.1, 0.2, 0.3, 0.4]  # Change as needed\n",
    "layer_begin_values = [0, 10]  # Change as needed\n",
    "layer_end_values = [120, 140]  # Change as needed\n",
    "layer_inter_values = [1, 2]  # Change as needed\n",
    "\n",
    "# Output directory for experiment scripts\n",
    "output_dir = \"experiment_scripts\"\n",
    "os.makedirs(output_dir, exist_ok=True)\n",
    "\n",
    "# Number of experiments per script\n",
    "experiments_per_script = 8\n",
    "\n",
    "# Counter for experiments\n",
    "experiment_count = 0\n",
    "\n",
    "# Generate experiment scripts\n",
    "for rate_norm in rate_norm_values:\n",
    "    for rate_dist in rate_dist_values:\n",
    "        for layer_begin in layer_begin_values:\n",
    "            for layer_end in layer_end_values:\n",
    "                for layer_inter in layer_inter_values:\n",
    "                    # Skip invalid combinations\n",
    "                    if layer_begin >= layer_end:\n",
    "                        continue\n",
    "                    if layer_inter > (layer_end - layer_begin):\n",
    "                        continue\n",
    "\n",
    "                    # Check if a new script needs to be created\n",
    "                    if experiment_count % experiments_per_script == 0:\n",
    "                        script_index = experiment_count // experiments_per_script\n",
    "                        script_filename = os.path.join(output_dir, f\"experiment_script_{script_index}.sh\")\n",
    "                        script_content = \"\"\n",
    "\n",
    "                    # Append experiment command to script content\n",
    "                    output_subdir = f\"RN{rate_norm}_RD{rate_dist}_LB{layer_begin}_LE{layer_end}_LI{layer_inter}\"\n",
    "                    experiment_command = f\"\"\"\\\n",
    "# Run experiment for {output_subdir}\n",
    "!python -m torch.distributed.launch --nproc_per_node=3 --use_env main.py --coco_path ../open-images-bus-trucks/ \\\n",
    "  --epochs 200 --lr=1e-4 --batch_size=4 --num_workers=4 \\\n",
    "  --output_dir=\"{output_subdir}\" --resume=\"detr-r50_no-class-head.pth\" \\\n",
    "  --rate_norm {rate_norm} --rate_dist {rate_dist} --layer_begin {layer_begin} --layer_end {layer_end} --layer_inter {layer_inter}\n",
    "\"\"\"\n",
    "                    script_content += experiment_command\n",
    "                    experiment_count += 1\n",
    "\n",
    "                    # Write script content to file when it reaches experiments_per_script\n",
    "                    if experiment_count % experiments_per_script == 0:\n",
    "                        with open(script_filename, \"w\") as script_file:\n",
    "                            script_file.write(script_content)\n",
    "\n",
    "# Write the last script if there are remaining experiments\n",
    "if experiment_count % experiments_per_script != 0:\n",
    "    script_index = experiment_count // experiments_per_script\n",
    "    script_filename = os.path.join(output_dir, f\"experiment_script_{script_index}.sh\")\n",
    "    with open(script_filename, \"w\") as script_file:\n",
    "        script_file.write(script_content)\n",
    "\n",
    "print(\"Experiment scripts generated successfully.\")\n"
   ]
  },
  {
   "cell_type": "code",
   "execution_count": null,
   "metadata": {},
   "outputs": [],
   "source": []
  }
 ],
 "metadata": {
  "kernelspec": {
   "display_name": "detr",
   "language": "python",
   "name": "detr"
  },
  "language_info": {
   "codemirror_mode": {
    "name": "ipython",
    "version": 3
   },
   "file_extension": ".py",
   "mimetype": "text/x-python",
   "name": "python",
   "nbconvert_exporter": "python",
   "pygments_lexer": "ipython3",
   "version": "3.8.3"
  }
 },
 "nbformat": 4,
 "nbformat_minor": 4
}
